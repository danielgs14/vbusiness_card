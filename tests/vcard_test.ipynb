{
 "cells": [
  {
   "cell_type": "code",
   "execution_count": 1,
   "metadata": {},
   "outputs": [],
   "source": [
    "# imports\n",
    "from vobject import vCard\n",
    "from vobject.vcard import Name\n",
    "import qrcode"
   ]
  },
  {
   "cell_type": "code",
   "execution_count": 2,
   "metadata": {},
   "outputs": [],
   "source": [
    "# create contact info\n",
    "# you can add more attributes. check this link: https://en.wikipedia.org/wiki/VCard\n",
    "# remember to remove <>\n",
    "\n",
    "contact_me = {\n",
    "    'N': Name(family='<your_last_name> - <your_country>', given='<your_first_name>') # I'm going to a conference so I'm also adding my country for easy recalling\n",
    "    , 'FN': '<your_first_name> <your_last_name> - <your_country>' \n",
    "    , 'TEL': '<+123456789>' #Remember to include the plus sign and country code\n",
    "    , 'EMAIL': '<your_email@email.com>'\n",
    "    , 'URL': '<your_website.com>'\n",
    "    , 'NOTE': 'Affiliated to <your_org>' # Using the ORG attribute returned semicolons so I'm using this instead\n",
    "}"
   ]
  },
  {
   "cell_type": "code",
   "execution_count": 3,
   "metadata": {},
   "outputs": [
    {
     "name": "stdout",
     "output_type": "stream",
     "text": [
      "N  <your_first_name>  <your_last_name> - <your_country> \n",
      "FN <your_first_name> <your_last_name> - <your_country>\n",
      "TEL <+123456789>\n",
      "EMAIL <your_email@email.com>\n",
      "URL <your_website.com>\n",
      "NOTE Affiliated to <your_org>\n"
     ]
    }
   ],
   "source": [
    "# print dictionary values to validate\n",
    "for key, value in contact_me.items():\n",
    "    print(key, value)"
   ]
  },
  {
   "cell_type": "code",
   "execution_count": 4,
   "metadata": {},
   "outputs": [],
   "source": [
    "# create and being vCard\n",
    "vcard = vCard()\n",
    "vcard.name = 'vCard'\n",
    "vcard.useBegin = True"
   ]
  },
  {
   "cell_type": "code",
   "execution_count": 5,
   "metadata": {},
   "outputs": [],
   "source": [
    "# loop to use dictionary values\n",
    "for key, value in contact_me.items():\n",
    "    vcard.add(key).value = value"
   ]
  },
  {
   "cell_type": "code",
   "execution_count": 6,
   "metadata": {},
   "outputs": [
    {
     "name": "stdout",
     "output_type": "stream",
     "text": [
      "BEGIN:vCard\n",
      "VERSION:3.0\n",
      "EMAIL:<your_email@email.com>\n",
      "FN:<your_first_name> <your_last_name> - <your_country>\n",
      "N:<your_last_name> - <your_country>;<your_first_name>;;;\n",
      "NOTE:Affiliated to <your_org>\n",
      "TEL:<+123456789>\n",
      "URL:<your_website.com>\n",
      "END:vCard\n",
      "\n"
     ]
    }
   ],
   "source": [
    "# Print and write the vCard to a file\n",
    "print(vcard.serialize())"
   ]
  },
  {
   "cell_type": "code",
   "execution_count": null,
   "metadata": {},
   "outputs": [],
   "source": [
    "#TODO: fix this error in Jupyter notebooks\n",
    "with open('./tests/contact_me.vcf', 'w') as f:\n",
    "    f.write(vcard.serialize())"
   ]
  },
  {
   "cell_type": "code",
   "execution_count": 9,
   "metadata": {},
   "outputs": [
    {
     "name": "stdout",
     "output_type": "stream",
     "text": [
      "BEGIN:vCard\n",
      "VERSION:3.0\n",
      "EMAIL:<your_email@email.com>\n",
      "FN:<your_first_name> <your_last_name> - <your_country>\n",
      "N:<your_last_name> - <your_country>;<your_first_name>;;;\n",
      "NOTE:Affiliated to <your_org>\n",
      "TEL:<+123456789>\n",
      "URL:<your_website.com>\n",
      "END:vCard\n",
      "\n"
     ]
    }
   ],
   "source": [
    "# store vCard in object\n",
    "qr_vcard = vcard.serialize()\n",
    "print(qr_vcard)"
   ]
  },
  {
   "cell_type": "code",
   "execution_count": 11,
   "metadata": {},
   "outputs": [],
   "source": [
    "# create qr\n",
    "\n",
    "qr = qrcode.QRCode(\n",
    "    version = 1\n",
    "    , error_correction = qrcode.constants.ERROR_CORRECT_L # this is a simple QR so should be able to be scanned easily\n",
    "    , box_size = 14 \n",
    "    , border = 2,\n",
    ")"
   ]
  },
  {
   "cell_type": "code",
   "execution_count": 12,
   "metadata": {},
   "outputs": [],
   "source": [
    "# perhaps it may be more tidy to specify here the colors to be used later\n",
    "bg = (0, 0, 0)\n",
    "fill = (255, 255, 255)"
   ]
  },
  {
   "cell_type": "code",
   "execution_count": 13,
   "metadata": {},
   "outputs": [],
   "source": [
    "# add your vCard file here\n",
    "qr.add_data(qr_vcard)\n",
    "\n",
    "# make it\n",
    "img = qr.make_image(\n",
    "    back_color = bg\n",
    "    , fill_color = fill)"
   ]
  },
  {
   "cell_type": "code",
   "execution_count": 16,
   "metadata": {},
   "outputs": [],
   "source": [
    "# save it\n",
    "img.save(\"qr_vCard_test.png\")"
   ]
  }
 ],
 "metadata": {
  "kernelspec": {
   "display_name": "venv",
   "language": "python",
   "name": "python3"
  },
  "language_info": {
   "codemirror_mode": {
    "name": "ipython",
    "version": 3
   },
   "file_extension": ".py",
   "mimetype": "text/x-python",
   "name": "python",
   "nbconvert_exporter": "python",
   "pygments_lexer": "ipython3",
   "version": "3.11.2"
  }
 },
 "nbformat": 4,
 "nbformat_minor": 2
}
